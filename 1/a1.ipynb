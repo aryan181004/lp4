{
 "cells": [
  {
   "cell_type": "code",
   "execution_count": 1,
   "id": "2579aec6-8e49-438c-a6ae-1ce6ccb87d6e",
   "metadata": {},
   "outputs": [
    {
     "name": "stdout",
     "output_type": "stream",
     "text": [
      "TensorFlow version: 2.19.0\n",
      "TensorFlow Addition (5+7): 12\n"
     ]
    }
   ],
   "source": [
    "# =========================\n",
    "# 1. TensorFlow\n",
    "# =========================\n",
    "import tensorflow as tf\n",
    "\n",
    "print(\"TensorFlow version:\", tf.__version__)\n",
    "\n",
    "# Create simple tensor and perform addition\n",
    "a = tf.constant(5)\n",
    "b = tf.constant(7)\n",
    "c = tf.add(a, b)\n",
    "print(\"TensorFlow Addition (5+7):\", c.numpy())"
   ]
  },
  {
   "cell_type": "code",
   "execution_count": 2,
   "id": "636e2292-b1d0-487b-9e3e-6598b5a3edb0",
   "metadata": {},
   "outputs": [
    {
     "name": "stdout",
     "output_type": "stream",
     "text": [
      "Keras MNIST dataset shapes:\n",
      "Training data: (60000, 28, 28) Training labels: (60000,)\n",
      "Testing data: (10000, 28, 28) Testing labels: (10000,)\n"
     ]
    }
   ],
   "source": [
    "# =========================\n",
    "# 2. Keras\n",
    "# =========================\n",
    "from tensorflow import keras\n",
    "from keras import datasets\n",
    "\n",
    "# Load MNIST dataset\n",
    "(train_images, train_labels), (test_images, test_labels) = datasets.mnist.load_data()\n",
    "print(\"Keras MNIST dataset shapes:\")\n",
    "print(\"Training data:\", train_images.shape, \"Training labels:\", train_labels.shape)\n",
    "print(\"Testing data:\", test_images.shape, \"Testing labels:\", test_labels.shape)"
   ]
  },
  {
   "cell_type": "code",
   "execution_count": 3,
   "id": "9c459350-97e1-4778-9e5a-681cf6d09fc1",
   "metadata": {},
   "outputs": [
    {
     "name": "stdout",
     "output_type": "stream",
     "text": [
      "PyTorch version: 2.8.0+cpu\n",
      "PyTorch Tensor:\n",
      " tensor([[1., 2.],\n",
      "        [3., 4.]])\n",
      "CUDA available: False\n"
     ]
    }
   ],
   "source": [
    "# =========================\n",
    "# 3. PyTorch\n",
    "# =========================\n",
    "import torch\n",
    "\n",
    "print(\"PyTorch version:\", torch.__version__)\n",
    "\n",
    "# Create a tensor\n",
    "t = torch.tensor([[1, 2], [3, 4]], dtype=torch.float32)\n",
    "print(\"PyTorch Tensor:\\n\", t)\n",
    "\n",
    "# Check CUDA availability\n",
    "print(\"CUDA available:\", torch.cuda.is_available())\n"
   ]
  },
  {
   "cell_type": "code",
   "execution_count": null,
   "id": "eb751298-2b80-4ce3-b98c-0e795e73a087",
   "metadata": {},
   "outputs": [],
   "source": []
  }
 ],
 "metadata": {
  "kernelspec": {
   "display_name": "Python 3 (ipykernel)",
   "language": "python",
   "name": "python3"
  },
  "language_info": {
   "codemirror_mode": {
    "name": "ipython",
    "version": 3
   },
   "file_extension": ".py",
   "mimetype": "text/x-python",
   "name": "python",
   "nbconvert_exporter": "python",
   "pygments_lexer": "ipython3",
   "version": "3.11.8"
  }
 },
 "nbformat": 4,
 "nbformat_minor": 5
}
